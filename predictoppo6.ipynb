{
  "nbformat": 4,
  "nbformat_minor": 0,
  "metadata": {
    "colab": {
      "name": "predictoppo6.ipynb",
      "version": "0.3.2",
      "provenance": [],
      "toc_visible": true,
      "include_colab_link": true
    },
    "kernelspec": {
      "name": "python3",
      "display_name": "Python 3"
    }
  },
  "cells": [
    {
      "cell_type": "markdown",
      "metadata": {
        "id": "view-in-github",
        "colab_type": "text"
      },
      "source": [
        "<a href=\"https://colab.research.google.com/github/Sahana-M/Time-series-analysis-mobile-price/blob/master/predictoppo6.ipynb\" target=\"_parent\"><img src=\"https://colab.research.google.com/assets/colab-badge.svg\" alt=\"Open In Colab\"/></a>"
      ]
    },
    {
      "cell_type": "code",
      "metadata": {
        "id": "5vSgXWADWygP",
        "colab_type": "code",
        "outputId": "967f23ab-1adf-41d0-d409-9896185e365a",
        "colab": {
          "base_uri": "https://localhost:8080/",
          "height": 187
        }
      },
      "source": [
        "import pandas as pd\n",
        "data_croma = pd.read_csv(\"oppo f11 pro croma1.csv\",index_col=0)\n",
        "data_flip = pd.read_csv(\"oppo fll pro flipkart 1.csv\", index_col = 0)\n",
        "data_snap = pd.read_csv(\"oppo fll pro snapdeal1.csv\", index_col=0)\n",
        "\n",
        "data_croma.head()\n",
        "data_flip.head()\n",
        "data_snap.head()\n",
        "\n",
        "data_croma.index\n",
        "data_flip.index\n",
        "data_snap.index"
      ],
      "execution_count": 0,
      "outputs": [
        {
          "output_type": "execute_result",
          "data": {
            "text/plain": [
              "Index(['19-03-2019', '20-03-2019', '21-03-2019', '22-03-2019', '23-03-2019',\n",
              "       '24-03-2019', '25-03-2019', '26-03-2019', '27-03-2019', '28-03-2019',\n",
              "       '29-03-2019', '30-03-2019', '31-03-2019', '04-01-2019', '04-02-2019',\n",
              "       '04-03-2019', '04-04-2019', '04-05-2019', '04-06-2019', '04-07-2019',\n",
              "       '04-08-2019', '04-09-2019', '04-10-2019', '04-11-2019', '04-12-2019',\n",
              "       '13-04-2019', '14-04-2019', '15-04-2019', '16-04-2019', '17-04-2019',\n",
              "       '18-04-2019', '19-04-2019', '20-04-2019', '21-04-2019', '22-04-2019',\n",
              "       '23-04-2019', '24-04-2019', '25-04-2019', '26-04-2019', '27-04-2019',\n",
              "       '28-04-2019', '29-04-2019', '30-04-2019'],\n",
              "      dtype='object', name='date')"
            ]
          },
          "metadata": {
            "tags": []
          },
          "execution_count": 1
        }
      ]
    },
    {
      "cell_type": "markdown",
      "metadata": {
        "id": "MilUevDrXKBd",
        "colab_type": "text"
      },
      "source": [
        "#converting to desirable date formation"
      ]
    },
    {
      "cell_type": "code",
      "metadata": {
        "id": "oehABJN_XMgy",
        "colab_type": "code",
        "colab": {}
      },
      "source": [
        "data_croma.index = pd.to_datetime(data_croma.index)\n",
        "data_flip.index = pd.to_datetime(data_flip.index)\n",
        "data_snap.index = pd.to_datetime(data_snap.index)"
      ],
      "execution_count": 0,
      "outputs": []
    },
    {
      "cell_type": "code",
      "metadata": {
        "id": "wjldHgbFXPSW",
        "colab_type": "code",
        "outputId": "74566b78-de96-41f1-f46b-3608f446fd04",
        "colab": {
          "base_uri": "https://localhost:8080/",
          "height": 235
        }
      },
      "source": [
        "data_croma.head()\n",
        "data_flip.head()\n",
        "data_snap.head()"
      ],
      "execution_count": 0,
      "outputs": [
        {
          "output_type": "execute_result",
          "data": {
            "text/html": [
              "<div>\n",
              "<style scoped>\n",
              "    .dataframe tbody tr th:only-of-type {\n",
              "        vertical-align: middle;\n",
              "    }\n",
              "\n",
              "    .dataframe tbody tr th {\n",
              "        vertical-align: top;\n",
              "    }\n",
              "\n",
              "    .dataframe thead th {\n",
              "        text-align: right;\n",
              "    }\n",
              "</style>\n",
              "<table border=\"1\" class=\"dataframe\">\n",
              "  <thead>\n",
              "    <tr style=\"text-align: right;\">\n",
              "      <th></th>\n",
              "      <th>price</th>\n",
              "    </tr>\n",
              "    <tr>\n",
              "      <th>date</th>\n",
              "      <th></th>\n",
              "    </tr>\n",
              "  </thead>\n",
              "  <tbody>\n",
              "    <tr>\n",
              "      <th>2019-03-19</th>\n",
              "      <td>25500</td>\n",
              "    </tr>\n",
              "    <tr>\n",
              "      <th>2019-03-20</th>\n",
              "      <td>25580</td>\n",
              "    </tr>\n",
              "    <tr>\n",
              "      <th>2019-03-21</th>\n",
              "      <td>25400</td>\n",
              "    </tr>\n",
              "    <tr>\n",
              "      <th>2019-03-22</th>\n",
              "      <td>25350</td>\n",
              "    </tr>\n",
              "    <tr>\n",
              "      <th>2019-03-23</th>\n",
              "      <td>25400</td>\n",
              "    </tr>\n",
              "  </tbody>\n",
              "</table>\n",
              "</div>"
            ],
            "text/plain": [
              "            price\n",
              "date             \n",
              "2019-03-19  25500\n",
              "2019-03-20  25580\n",
              "2019-03-21  25400\n",
              "2019-03-22  25350\n",
              "2019-03-23  25400"
            ]
          },
          "metadata": {
            "tags": []
          },
          "execution_count": 4
        }
      ]
    },
    {
      "cell_type": "code",
      "metadata": {
        "id": "buQVaHpSXSUL",
        "colab_type": "code",
        "outputId": "562c966b-db05-46f6-94cf-446122e6add2",
        "colab": {
          "base_uri": "https://localhost:8080/",
          "height": 221
        }
      },
      "source": [
        "data_croma.index\n",
        "data_flip.index\n",
        "data_snap.index"
      ],
      "execution_count": 0,
      "outputs": [
        {
          "output_type": "execute_result",
          "data": {
            "text/plain": [
              "DatetimeIndex(['2019-03-19', '2019-03-20', '2019-03-21', '2019-03-22',\n",
              "               '2019-03-23', '2019-03-24', '2019-03-25', '2019-03-26',\n",
              "               '2019-03-27', '2019-03-28', '2019-03-29', '2019-03-30',\n",
              "               '2019-03-31', '2019-04-01', '2019-04-02', '2019-04-03',\n",
              "               '2019-04-04', '2019-04-05', '2019-04-06', '2019-04-07',\n",
              "               '2019-04-08', '2019-04-09', '2019-04-10', '2019-04-11',\n",
              "               '2019-04-12', '2019-04-13', '2019-04-14', '2019-04-15',\n",
              "               '2019-04-16', '2019-04-17', '2019-04-18', '2019-04-19',\n",
              "               '2019-04-20', '2019-04-21', '2019-04-22', '2019-04-23',\n",
              "               '2019-04-24', '2019-04-25', '2019-04-26', '2019-04-27',\n",
              "               '2019-04-28', '2019-04-29', '2019-04-30'],\n",
              "              dtype='datetime64[ns]', name='date', freq=None)"
            ]
          },
          "metadata": {
            "tags": []
          },
          "execution_count": 5
        }
      ]
    },
    {
      "cell_type": "code",
      "metadata": {
        "id": "aA6hh1cVXUSH",
        "colab_type": "code",
        "colab": {}
      },
      "source": [
        "data_croma.columns = ['price']\n",
        "data_flip.columns = ['price']\n",
        "data_snap.columns = ['price']"
      ],
      "execution_count": 0,
      "outputs": []
    },
    {
      "cell_type": "code",
      "metadata": {
        "id": "ycj1AEMqXV-7",
        "colab_type": "code",
        "outputId": "62b9b0bc-7552-4f54-81d2-54f5417ee5b7",
        "colab": {
          "base_uri": "https://localhost:8080/",
          "height": 235
        }
      },
      "source": [
        "data_croma.head()\n",
        "data_flip.head()\n",
        "data_snap.head()"
      ],
      "execution_count": 0,
      "outputs": [
        {
          "output_type": "execute_result",
          "data": {
            "text/html": [
              "<div>\n",
              "<style scoped>\n",
              "    .dataframe tbody tr th:only-of-type {\n",
              "        vertical-align: middle;\n",
              "    }\n",
              "\n",
              "    .dataframe tbody tr th {\n",
              "        vertical-align: top;\n",
              "    }\n",
              "\n",
              "    .dataframe thead th {\n",
              "        text-align: right;\n",
              "    }\n",
              "</style>\n",
              "<table border=\"1\" class=\"dataframe\">\n",
              "  <thead>\n",
              "    <tr style=\"text-align: right;\">\n",
              "      <th></th>\n",
              "      <th>price</th>\n",
              "    </tr>\n",
              "    <tr>\n",
              "      <th>date</th>\n",
              "      <th></th>\n",
              "    </tr>\n",
              "  </thead>\n",
              "  <tbody>\n",
              "    <tr>\n",
              "      <th>2019-03-19</th>\n",
              "      <td>25500</td>\n",
              "    </tr>\n",
              "    <tr>\n",
              "      <th>2019-03-20</th>\n",
              "      <td>25580</td>\n",
              "    </tr>\n",
              "    <tr>\n",
              "      <th>2019-03-21</th>\n",
              "      <td>25400</td>\n",
              "    </tr>\n",
              "    <tr>\n",
              "      <th>2019-03-22</th>\n",
              "      <td>25350</td>\n",
              "    </tr>\n",
              "    <tr>\n",
              "      <th>2019-03-23</th>\n",
              "      <td>25400</td>\n",
              "    </tr>\n",
              "  </tbody>\n",
              "</table>\n",
              "</div>"
            ],
            "text/plain": [
              "            price\n",
              "date             \n",
              "2019-03-19  25500\n",
              "2019-03-20  25580\n",
              "2019-03-21  25400\n",
              "2019-03-22  25350\n",
              "2019-03-23  25400"
            ]
          },
          "metadata": {
            "tags": []
          },
          "execution_count": 6
        }
      ]
    },
    {
      "cell_type": "code",
      "metadata": {
        "id": "DFSTwHiFXX2r",
        "colab_type": "code",
        "colab": {}
      },
      "source": [
        "import plotly\n",
        "from plotly.plotly import plot_mpl\n",
        "from statsmodels.tsa.seasonal import seasonal_decompose"
      ],
      "execution_count": 0,
      "outputs": []
    },
    {
      "cell_type": "code",
      "metadata": {
        "id": "ZNoHsJ1wXeDc",
        "colab_type": "code",
        "colab": {}
      },
      "source": [
        "result_croma = seasonal_decompose(data_croma, model='multiplicative', freq=1)\n",
        "result_flip = seasonal_decompose(data_flip, model='multiplicative', freq=1)\n",
        "result_snap = seasonal_decompose(data_snap, model='multiplicative', freq=1)"
      ],
      "execution_count": 0,
      "outputs": []
    },
    {
      "cell_type": "code",
      "metadata": {
        "id": "l_V6DMNdXf9C",
        "colab_type": "code",
        "colab": {}
      },
      "source": [
        "plotly.tools.set_credentials_file(username='sahana369', api_key='qN7b19SDafUpo4hPsXZP')"
      ],
      "execution_count": 0,
      "outputs": []
    },
    {
      "cell_type": "code",
      "metadata": {
        "id": "O51FZ2lEXjDB",
        "colab_type": "code",
        "outputId": "57d503ee-6046-4e53-994e-5cedd7250515",
        "colab": {
          "base_uri": "https://localhost:8080/",
          "height": 300
        }
      },
      "source": [
        "fig1_croma = result_croma.plot()"
      ],
      "execution_count": 0,
      "outputs": [
        {
          "output_type": "display_data",
          "data": {
            "image/png": "[encoded data removed]",
            "text/plain": [
              "<Figure size 432x288 with 4 Axes>"
            ]
          },
          "metadata": {
            "tags": []
          }
        }
      ]
    },
    {
      "cell_type": "code",
      "metadata": {
        "id": "1fgzXdNIXlj2",
        "colab_type": "code",
        "outputId": "d414aac7-eafe-4c59-fea1-e10f0dd7d360",
        "colab": {
          "base_uri": "https://localhost:8080/",
          "height": 300
        }
      },
      "source": [
        "fig1_flip = result_flip.plot()"
      ],
      "execution_count": 0,
      "outputs": [
        {
          "output_type": "display_data",
          "data": {
            "image/png": "[encoded data removed]",
            "text/plain": [
              "<Figure size 432x288 with 4 Axes>"
            ]
          },
          "metadata": {
            "tags": []
          }
        }
      ]
    },
    {
      "cell_type": "code",
      "metadata": {
        "id": "egCHVPefXnVT",
        "colab_type": "code",
        "outputId": "3bac0dfe-c028-4339-8649-4a1cb11c1c6a",
        "colab": {
          "base_uri": "https://localhost:8080/",
          "height": 300
        }
      },
      "source": [
        "fig1_snap = result_snap.plot()"
      ],
      "execution_count": 0,
      "outputs": [
        {
          "output_type": "display_data",
          "data": {
            "image/png": "[encoded data removed]",
            "text/plain": [
              "<Figure size 432x288 with 4 Axes>"
            ]
          },
          "metadata": {
            "tags": []
          }
        }
      ]
    },
    {
      "cell_type": "code",
      "metadata": {
        "id": "IDyvAht4XrL3",
        "colab_type": "code",
        "colab": {}
      },
      "source": [
        "#not necessary\n",
        "\n",
        "plot_mpl(fig)"
      ],
      "execution_count": 0,
      "outputs": []
    },
    {
      "cell_type": "code",
      "metadata": {
        "id": "TiyWbanSXtlY",
        "colab_type": "code",
        "colab": {}
      },
      "source": [
        "import plotly.plotly as ply\n",
        "import cufflinks as cf"
      ],
      "execution_count": 0,
      "outputs": []
    },
    {
      "cell_type": "code",
      "metadata": {
        "id": "zkRZdPdlXvvx",
        "colab_type": "code",
        "outputId": "def8564d-4b4a-4493-c44b-870b75f3dd5e",
        "colab": {
          "base_uri": "https://localhost:8080/",
          "height": 546
        }
      },
      "source": [
        "data_croma.iplot(title=\"price range\", theme='pearl')"
      ],
      "execution_count": 0,
      "outputs": [
        {
          "output_type": "execute_result",
          "data": {
            "text/html": [
              "<iframe id=\"igraph\" scrolling=\"no\" style=\"border:none;\" seamless=\"seamless\" src=\"https://plot.ly/~sahana369/91.embed\" height=\"525px\" width=\"100%\"></iframe>"
            ],
            "text/plain": [
              "<plotly.tools.PlotlyDisplay object>"
            ]
          },
          "metadata": {
            "tags": []
          },
          "execution_count": 14
        }
      ]
    },
    {
      "cell_type": "code",
      "metadata": {
        "id": "Sb_44DzGXv34",
        "colab_type": "code",
        "outputId": "b7a645e4-da1c-40d9-efce-640d7c5e1377",
        "colab": {
          "base_uri": "https://localhost:8080/",
          "height": 546
        }
      },
      "source": [
        "data_flip.iplot(title=\"price range\", theme='pearl')"
      ],
      "execution_count": 0,
      "outputs": [
        {
          "output_type": "execute_result",
          "data": {
            "text/html": [
              "<iframe id=\"igraph\" scrolling=\"no\" style=\"border:none;\" seamless=\"seamless\" src=\"https://plot.ly/~sahana369/91.embed\" height=\"525px\" width=\"100%\"></iframe>"
            ],
            "text/plain": [
              "<plotly.tools.PlotlyDisplay object>"
            ]
          },
          "metadata": {
            "tags": []
          },
          "execution_count": 15
        }
      ]
    },
    {
      "cell_type": "code",
      "metadata": {
        "id": "5298giKJXv-g",
        "colab_type": "code",
        "outputId": "cc43fa35-ec96-4818-de31-f2a04a4c5c34",
        "colab": {
          "base_uri": "https://localhost:8080/",
          "height": 546
        }
      },
      "source": [
        "data_snap.iplot(title=\"price range\", theme='pearl')"
      ],
      "execution_count": 0,
      "outputs": [
        {
          "output_type": "execute_result",
          "data": {
            "text/html": [
              "<iframe id=\"igraph\" scrolling=\"no\" style=\"border:none;\" seamless=\"seamless\" src=\"https://plot.ly/~sahana369/91.embed\" height=\"525px\" width=\"100%\"></iframe>"
            ],
            "text/plain": [
              "<plotly.tools.PlotlyDisplay object>"
            ]
          },
          "metadata": {
            "tags": []
          },
          "execution_count": 16
        }
      ]
    },
    {
      "cell_type": "code",
      "metadata": {
        "id": "zl_kCto0X5eA",
        "colab_type": "code",
        "outputId": "45f33e99-db81-400c-f5cc-2824a4f648db",
        "colab": {
          "base_uri": "https://localhost:8080/",
          "height": 224
        }
      },
      "source": [
        "pip install pmdarima"
      ],
      "execution_count": 0,
      "outputs": [
        {
          "output_type": "stream",
          "text": [
            "Requirement already satisfied: pmdarima in /usr/local/lib/python3.6/dist-packages (1.2.0)\n",
            "Requirement already satisfied: scikit-learn>=0.19 in /usr/local/lib/python3.6/dist-packages (from pmdarima) (0.20.3)\n",
            "Requirement already satisfied: scipy>=1.2 in /usr/local/lib/python3.6/dist-packages (from pmdarima) (1.2.1)\n",
            "Requirement already satisfied: pandas>=0.19 in /usr/local/lib/python3.6/dist-packages (from pmdarima) (0.24.2)\n",
            "Requirement already satisfied: statsmodels>=0.9.0 in /usr/local/lib/python3.6/dist-packages (from pmdarima) (0.9.0)\n",
            "Requirement already satisfied: Cython>=0.29 in /usr/local/lib/python3.6/dist-packages (from pmdarima) (0.29.7)\n",
            "Requirement already satisfied: numpy>=1.15 in /usr/local/lib/python3.6/dist-packages (from pmdarima) (1.16.3)\n",
            "Requirement already satisfied: python-dateutil>=2.5.0 in /usr/local/lib/python3.6/dist-packages (from pandas>=0.19->pmdarima) (2.5.3)\n",
            "Requirement already satisfied: pytz>=2011k in /usr/local/lib/python3.6/dist-packages (from pandas>=0.19->pmdarima) (2018.9)\n",
            "Requirement already satisfied: patsy in /usr/local/lib/python3.6/dist-packages (from statsmodels>=0.9.0->pmdarima) (0.5.1)\n",
            "Requirement already satisfied: six>=1.5 in /usr/local/lib/python3.6/dist-packages (from python-dateutil>=2.5.0->pandas>=0.19->pmdarima) (1.12.0)\n"
          ],
          "name": "stdout"
        }
      ]
    },
    {
      "cell_type": "code",
      "metadata": {
        "id": "ttucA4vnX7bp",
        "colab_type": "code",
        "colab": {}
      },
      "source": [
        "from pmdarima.arima import auto_arima"
      ],
      "execution_count": 0,
      "outputs": []
    },
    {
      "cell_type": "code",
      "metadata": {
        "id": "i8H_P7bWX9aE",
        "colab_type": "code",
        "outputId": "80928fc5-be2b-4967-f3a8-b240af0420b8",
        "colab": {
          "base_uri": "https://localhost:8080/",
          "height": 136
        }
      },
      "source": [
        "stepwise_model_croma = auto_arima(data_croma, start_p=1, start_q=1,\n",
        "                           max_p=3, max_q=3, m=1,\n",
        "                           start_P=0, seasonal=False,\n",
        "                           d=1, D=1, trace=True,\n",
        "                           error_action='ignore',  \n",
        "                           suppress_warnings=True, \n",
        "                           stepwise=True)"
      ],
      "execution_count": 0,
      "outputs": [
        {
          "output_type": "stream",
          "text": [
            "Fit ARIMA: order=(1, 1, 1); AIC=595.543, BIC=602.494, Fit time=0.087 seconds\n",
            "Fit ARIMA: order=(0, 1, 0); AIC=594.891, BIC=598.366, Fit time=0.002 seconds\n",
            "Fit ARIMA: order=(1, 1, 0); AIC=593.634, BIC=598.847, Fit time=0.041 seconds\n",
            "Fit ARIMA: order=(0, 1, 1); AIC=593.549, BIC=598.762, Fit time=0.029 seconds\n",
            "Fit ARIMA: order=(0, 1, 2); AIC=595.547, BIC=602.498, Fit time=0.046 seconds\n",
            "Fit ARIMA: order=(1, 1, 2); AIC=nan, BIC=nan, Fit time=nan seconds\n",
            "Total fit time: 0.221 seconds\n"
          ],
          "name": "stdout"
        }
      ]
    },
    {
      "cell_type": "code",
      "metadata": {
        "id": "mNj3BkOuX_AF",
        "colab_type": "code",
        "outputId": "8adac220-f4e0-4862-c4d3-f0a8b01cc155",
        "colab": {
          "base_uri": "https://localhost:8080/",
          "height": 136
        }
      },
      "source": [
        "stepwise_model_flip = auto_arima(data_flip, start_p=1, start_q=1,\n",
        "                           max_p=3, max_q=3, m=1,\n",
        "                           start_P=0, seasonal=False,\n",
        "                           d=1, D=1, trace=True,\n",
        "                           error_action='ignore',  \n",
        "                           suppress_warnings=True, \n",
        "                           stepwise=True)"
      ],
      "execution_count": 0,
      "outputs": [
        {
          "output_type": "stream",
          "text": [
            "Fit ARIMA: order=(1, 1, 1); AIC=597.960, BIC=604.911, Fit time=0.066 seconds\n",
            "Fit ARIMA: order=(0, 1, 0); AIC=608.055, BIC=611.530, Fit time=0.003 seconds\n",
            "Fit ARIMA: order=(1, 1, 0); AIC=601.674, BIC=606.887, Fit time=0.041 seconds\n",
            "Fit ARIMA: order=(0, 1, 1); AIC=595.985, BIC=601.198, Fit time=0.026 seconds\n",
            "Fit ARIMA: order=(0, 1, 2); AIC=nan, BIC=nan, Fit time=nan seconds\n",
            "Fit ARIMA: order=(1, 1, 2); AIC=599.722, BIC=608.410, Fit time=0.090 seconds\n",
            "Total fit time: 0.230 seconds\n"
          ],
          "name": "stdout"
        }
      ]
    },
    {
      "cell_type": "code",
      "metadata": {
        "id": "y6Ew6-jQYA8Y",
        "colab_type": "code",
        "outputId": "be7a255f-7f1e-4fe5-adb6-03da301ad8be",
        "colab": {
          "base_uri": "https://localhost:8080/",
          "height": 102
        }
      },
      "source": [
        "stepwise_model_snap = auto_arima(data_snap, start_p=1, start_q=1,\n",
        "                           max_p=3, max_q=3, m=1,\n",
        "                           start_P=0, seasonal=False,\n",
        "                           d=1, D=1, trace=True,\n",
        "                           error_action='ignore',  \n",
        "                           suppress_warnings=True, \n",
        "                           stepwise=True)"
      ],
      "execution_count": 0,
      "outputs": [
        {
          "output_type": "stream",
          "text": [
            "Fit ARIMA: order=(1, 1, 1); AIC=554.501, BIC=561.452, Fit time=0.085 seconds\n",
            "Fit ARIMA: order=(0, 1, 0); AIC=551.793, BIC=555.269, Fit time=0.008 seconds\n",
            "Fit ARIMA: order=(1, 1, 0); AIC=553.777, BIC=558.990, Fit time=0.026 seconds\n",
            "Fit ARIMA: order=(0, 1, 1); AIC=553.754, BIC=558.967, Fit time=0.032 seconds\n",
            "Total fit time: 0.153 seconds\n"
          ],
          "name": "stdout"
        }
      ]
    },
    {
      "cell_type": "code",
      "metadata": {
        "id": "J29esT1yYCvg",
        "colab_type": "code",
        "outputId": "920568ef-f6e0-49a6-f3f4-dc5a786868b9",
        "colab": {
          "base_uri": "https://localhost:8080/",
          "height": 34
        }
      },
      "source": [
        "stepwise_model_croma.aic()"
      ],
      "execution_count": 0,
      "outputs": [
        {
          "output_type": "execute_result",
          "data": {
            "text/plain": [
              "593.5485558709836"
            ]
          },
          "metadata": {
            "tags": []
          },
          "execution_count": 15
        }
      ]
    },
    {
      "cell_type": "code",
      "metadata": {
        "id": "LSoPVQV9YC3J",
        "colab_type": "code",
        "outputId": "33f3c8cf-abf5-45e1-8f0c-59a15bbd531e",
        "colab": {
          "base_uri": "https://localhost:8080/",
          "height": 34
        }
      },
      "source": [
        "stepwise_model_flip.aic()"
      ],
      "execution_count": 0,
      "outputs": [
        {
          "output_type": "execute_result",
          "data": {
            "text/plain": [
              "595.9848735530124"
            ]
          },
          "metadata": {
            "tags": []
          },
          "execution_count": 16
        }
      ]
    },
    {
      "cell_type": "code",
      "metadata": {
        "id": "_k8aNmWfYC-l",
        "colab_type": "code",
        "outputId": "ec8b8dff-e085-42c0-83c0-67c569666428",
        "colab": {
          "base_uri": "https://localhost:8080/",
          "height": 34
        }
      },
      "source": [
        "stepwise_model_snap.aic()"
      ],
      "execution_count": 0,
      "outputs": [
        {
          "output_type": "execute_result",
          "data": {
            "text/plain": [
              "551.7931744492521"
            ]
          },
          "metadata": {
            "tags": []
          },
          "execution_count": 17
        }
      ]
    },
    {
      "cell_type": "code",
      "metadata": {
        "id": "MQRgrrsVYI12",
        "colab_type": "code",
        "outputId": "30f02fa5-5514-488b-b498-a942eecc704d",
        "colab": {
          "base_uri": "https://localhost:8080/",
          "height": 235
        }
      },
      "source": [
        "data_croma.head()\n",
        "data_flip.head()\n",
        "data_snap.head()"
      ],
      "execution_count": 0,
      "outputs": [
        {
          "output_type": "execute_result",
          "data": {
            "text/html": [
              "<div>\n",
              "<style scoped>\n",
              "    .dataframe tbody tr th:only-of-type {\n",
              "        vertical-align: middle;\n",
              "    }\n",
              "\n",
              "    .dataframe tbody tr th {\n",
              "        vertical-align: top;\n",
              "    }\n",
              "\n",
              "    .dataframe thead th {\n",
              "        text-align: right;\n",
              "    }\n",
              "</style>\n",
              "<table border=\"1\" class=\"dataframe\">\n",
              "  <thead>\n",
              "    <tr style=\"text-align: right;\">\n",
              "      <th></th>\n",
              "      <th>price</th>\n",
              "    </tr>\n",
              "    <tr>\n",
              "      <th>date</th>\n",
              "      <th></th>\n",
              "    </tr>\n",
              "  </thead>\n",
              "  <tbody>\n",
              "    <tr>\n",
              "      <th>2019-03-19</th>\n",
              "      <td>25500</td>\n",
              "    </tr>\n",
              "    <tr>\n",
              "      <th>2019-03-20</th>\n",
              "      <td>25580</td>\n",
              "    </tr>\n",
              "    <tr>\n",
              "      <th>2019-03-21</th>\n",
              "      <td>25400</td>\n",
              "    </tr>\n",
              "    <tr>\n",
              "      <th>2019-03-22</th>\n",
              "      <td>25350</td>\n",
              "    </tr>\n",
              "    <tr>\n",
              "      <th>2019-03-23</th>\n",
              "      <td>25400</td>\n",
              "    </tr>\n",
              "  </tbody>\n",
              "</table>\n",
              "</div>"
            ],
            "text/plain": [
              "            price\n",
              "date             \n",
              "2019-03-19  25500\n",
              "2019-03-20  25580\n",
              "2019-03-21  25400\n",
              "2019-03-22  25350\n",
              "2019-03-23  25400"
            ]
          },
          "metadata": {
            "tags": []
          },
          "execution_count": 25
        }
      ]
    },
    {
      "cell_type": "code",
      "metadata": {
        "id": "dDDkkhDHYM-k",
        "colab_type": "code",
        "colab": {}
      },
      "source": [
        "train_croma = data_croma.loc['2019-03-19':'2019-04-30']\n",
        "train_flip = data_flip.loc['2019-03-19':'2019-04-30']\n",
        "train_snap = data_snap.loc['2019-03-19':'2019-04-30']"
      ],
      "execution_count": 0,
      "outputs": []
    },
    {
      "cell_type": "code",
      "metadata": {
        "id": "av4FX3oRYOsd",
        "colab_type": "code",
        "outputId": "df646953-cf1b-428f-ee10-fd2a79570ed4",
        "colab": {
          "base_uri": "https://localhost:8080/",
          "height": 235
        }
      },
      "source": [
        "train_croma.tail()\n",
        "train_flip.tail()\n",
        "train_snap.tail()"
      ],
      "execution_count": 0,
      "outputs": [
        {
          "output_type": "execute_result",
          "data": {
            "text/html": [
              "<div>\n",
              "<style scoped>\n",
              "    .dataframe tbody tr th:only-of-type {\n",
              "        vertical-align: middle;\n",
              "    }\n",
              "\n",
              "    .dataframe tbody tr th {\n",
              "        vertical-align: top;\n",
              "    }\n",
              "\n",
              "    .dataframe thead th {\n",
              "        text-align: right;\n",
              "    }\n",
              "</style>\n",
              "<table border=\"1\" class=\"dataframe\">\n",
              "  <thead>\n",
              "    <tr style=\"text-align: right;\">\n",
              "      <th></th>\n",
              "      <th>price</th>\n",
              "    </tr>\n",
              "    <tr>\n",
              "      <th>date</th>\n",
              "      <th></th>\n",
              "    </tr>\n",
              "  </thead>\n",
              "  <tbody>\n",
              "    <tr>\n",
              "      <th>2019-04-26</th>\n",
              "      <td>23190</td>\n",
              "    </tr>\n",
              "    <tr>\n",
              "      <th>2019-04-27</th>\n",
              "      <td>23200</td>\n",
              "    </tr>\n",
              "    <tr>\n",
              "      <th>2019-04-28</th>\n",
              "      <td>23100</td>\n",
              "    </tr>\n",
              "    <tr>\n",
              "      <th>2019-04-29</th>\n",
              "      <td>23050</td>\n",
              "    </tr>\n",
              "    <tr>\n",
              "      <th>2019-04-30</th>\n",
              "      <td>23000</td>\n",
              "    </tr>\n",
              "  </tbody>\n",
              "</table>\n",
              "</div>"
            ],
            "text/plain": [
              "            price\n",
              "date             \n",
              "2019-04-26  23190\n",
              "2019-04-27  23200\n",
              "2019-04-28  23100\n",
              "2019-04-29  23050\n",
              "2019-04-30  23000"
            ]
          },
          "metadata": {
            "tags": []
          },
          "execution_count": 27
        }
      ]
    },
    {
      "cell_type": "code",
      "metadata": {
        "id": "foF0vZ_dYQWr",
        "colab_type": "code",
        "colab": {}
      },
      "source": [
        "test_croma = data_croma.loc['2019-04-30':]\n",
        "test_flip = data_flip.loc['2019-04-30':]\n",
        "test_snap = data_snap.loc['2019-04-30':]"
      ],
      "execution_count": 0,
      "outputs": []
    },
    {
      "cell_type": "code",
      "metadata": {
        "id": "CO5KF3-oYQcW",
        "colab_type": "code",
        "outputId": "e9e33247-9bea-457e-bfe7-0f0402cdfef6",
        "colab": {
          "base_uri": "https://localhost:8080/",
          "height": 111
        }
      },
      "source": [
        "test_croma.head()\n",
        "test_flip.head()\n",
        "test_snap.head()"
      ],
      "execution_count": 0,
      "outputs": [
        {
          "output_type": "execute_result",
          "data": {
            "text/html": [
              "<div>\n",
              "<style scoped>\n",
              "    .dataframe tbody tr th:only-of-type {\n",
              "        vertical-align: middle;\n",
              "    }\n",
              "\n",
              "    .dataframe tbody tr th {\n",
              "        vertical-align: top;\n",
              "    }\n",
              "\n",
              "    .dataframe thead th {\n",
              "        text-align: right;\n",
              "    }\n",
              "</style>\n",
              "<table border=\"1\" class=\"dataframe\">\n",
              "  <thead>\n",
              "    <tr style=\"text-align: right;\">\n",
              "      <th></th>\n",
              "      <th>price</th>\n",
              "    </tr>\n",
              "    <tr>\n",
              "      <th>date</th>\n",
              "      <th></th>\n",
              "    </tr>\n",
              "  </thead>\n",
              "  <tbody>\n",
              "    <tr>\n",
              "      <th>2019-04-30</th>\n",
              "      <td>23000</td>\n",
              "    </tr>\n",
              "  </tbody>\n",
              "</table>\n",
              "</div>"
            ],
            "text/plain": [
              "            price\n",
              "date             \n",
              "2019-04-30  23000"
            ]
          },
          "metadata": {
            "tags": []
          },
          "execution_count": 29
        }
      ]
    },
    {
      "cell_type": "code",
      "metadata": {
        "id": "wlynuO0SYT1g",
        "colab_type": "code",
        "outputId": "2f803b3f-9250-4a2c-daaf-101b9259518a",
        "colab": {
          "base_uri": "https://localhost:8080/",
          "height": 111
        }
      },
      "source": [
        "test_croma.tail()\n",
        "test_flip.tail()\n",
        "test_snap.tail()\n"
      ],
      "execution_count": 0,
      "outputs": [
        {
          "output_type": "execute_result",
          "data": {
            "text/html": [
              "<div>\n",
              "<style scoped>\n",
              "    .dataframe tbody tr th:only-of-type {\n",
              "        vertical-align: middle;\n",
              "    }\n",
              "\n",
              "    .dataframe tbody tr th {\n",
              "        vertical-align: top;\n",
              "    }\n",
              "\n",
              "    .dataframe thead th {\n",
              "        text-align: right;\n",
              "    }\n",
              "</style>\n",
              "<table border=\"1\" class=\"dataframe\">\n",
              "  <thead>\n",
              "    <tr style=\"text-align: right;\">\n",
              "      <th></th>\n",
              "      <th>price</th>\n",
              "    </tr>\n",
              "    <tr>\n",
              "      <th>date</th>\n",
              "      <th></th>\n",
              "    </tr>\n",
              "  </thead>\n",
              "  <tbody>\n",
              "    <tr>\n",
              "      <th>2019-04-30</th>\n",
              "      <td>23000</td>\n",
              "    </tr>\n",
              "  </tbody>\n",
              "</table>\n",
              "</div>"
            ],
            "text/plain": [
              "            price\n",
              "date             \n",
              "2019-04-30  23000"
            ]
          },
          "metadata": {
            "tags": []
          },
          "execution_count": 30
        }
      ]
    },
    {
      "cell_type": "code",
      "metadata": {
        "id": "PMhIQx_YYWF0",
        "colab_type": "code",
        "outputId": "ab788e17-bc15-4d33-ec77-9988e8b8a37e",
        "colab": {
          "base_uri": "https://localhost:8080/",
          "height": 34
        }
      },
      "source": [
        "len(test_croma)"
      ],
      "execution_count": 0,
      "outputs": [
        {
          "output_type": "execute_result",
          "data": {
            "text/plain": [
              "1"
            ]
          },
          "metadata": {
            "tags": []
          },
          "execution_count": 31
        }
      ]
    },
    {
      "cell_type": "code",
      "metadata": {
        "id": "7eQjDgTHYWPf",
        "colab_type": "code",
        "outputId": "37049697-a727-4b5e-ae3e-9279bc26ebf6",
        "colab": {
          "base_uri": "https://localhost:8080/",
          "height": 34
        }
      },
      "source": [
        "len(train_croma)"
      ],
      "execution_count": 0,
      "outputs": [
        {
          "output_type": "execute_result",
          "data": {
            "text/plain": [
              "43"
            ]
          },
          "metadata": {
            "tags": []
          },
          "execution_count": 32
        }
      ]
    },
    {
      "cell_type": "markdown",
      "metadata": {
        "id": "R_CUm1b3YbXF",
        "colab_type": "text"
      },
      "source": [
        "***Fitting the model to the data***"
      ]
    },
    {
      "cell_type": "markdown",
      "metadata": {
        "id": "h0x5gagMYcwF",
        "colab_type": "text"
      },
      "source": [
        "# Croma"
      ]
    },
    {
      "cell_type": "code",
      "metadata": {
        "id": "2kldmRoHYfi1",
        "colab_type": "code",
        "outputId": "5de1bf0f-46b4-4f0e-a8d7-cb235a5a3704",
        "colab": {
          "base_uri": "https://localhost:8080/",
          "height": 102
        }
      },
      "source": [
        "stepwise_model_croma.fit(train_croma)"
      ],
      "execution_count": 0,
      "outputs": [
        {
          "output_type": "execute_result",
          "data": {
            "text/plain": [
              "ARIMA(callback=None, disp=0, maxiter=None, method=None, order=(0, 1, 1),\n",
              "   out_of_sample_size=0, scoring='mse', scoring_args={},\n",
              "   seasonal_order=None, solver='lbfgs', start_params=None,\n",
              "   suppress_warnings=True, transparams=True, trend=None,\n",
              "   with_intercept=True)"
            ]
          },
          "metadata": {
            "tags": []
          },
          "execution_count": 20
        }
      ]
    },
    {
      "cell_type": "markdown",
      "metadata": {
        "id": "ORb9G7h8Yg8U",
        "colab_type": "text"
      },
      "source": [
        "# Flipkart"
      ]
    },
    {
      "cell_type": "code",
      "metadata": {
        "id": "aZB96SbNYhZM",
        "colab_type": "code",
        "outputId": "7d0af0af-a66b-49b4-cd32-921d5cafab03",
        "colab": {
          "base_uri": "https://localhost:8080/",
          "height": 102
        }
      },
      "source": [
        "stepwise_model_flip.fit(train_flip)"
      ],
      "execution_count": 0,
      "outputs": [
        {
          "output_type": "execute_result",
          "data": {
            "text/plain": [
              "ARIMA(callback=None, disp=0, maxiter=None, method=None, order=(0, 1, 1),\n",
              "   out_of_sample_size=0, scoring='mse', scoring_args={},\n",
              "   seasonal_order=None, solver='lbfgs', start_params=None,\n",
              "   suppress_warnings=True, transparams=True, trend=None,\n",
              "   with_intercept=True)"
            ]
          },
          "metadata": {
            "tags": []
          },
          "execution_count": 21
        }
      ]
    },
    {
      "cell_type": "markdown",
      "metadata": {
        "id": "h-aAvguvYh3t",
        "colab_type": "text"
      },
      "source": [
        "# # Snapdeal"
      ]
    },
    {
      "cell_type": "code",
      "metadata": {
        "id": "XlqHX7OOYiXD",
        "colab_type": "code",
        "outputId": "5d680a47-ec58-4b6a-bf34-0a056191696b",
        "colab": {
          "base_uri": "https://localhost:8080/",
          "height": 102
        }
      },
      "source": [
        "stepwise_model_snap.fit(train_snap)"
      ],
      "execution_count": 0,
      "outputs": [
        {
          "output_type": "execute_result",
          "data": {
            "text/plain": [
              "ARIMA(callback=None, disp=0, maxiter=None, method=None, order=(0, 1, 0),\n",
              "   out_of_sample_size=0, scoring='mse', scoring_args={},\n",
              "   seasonal_order=None, solver='lbfgs', start_params=None,\n",
              "   suppress_warnings=True, transparams=True, trend=None,\n",
              "   with_intercept=True)"
            ]
          },
          "metadata": {
            "tags": []
          },
          "execution_count": 22
        }
      ]
    },
    {
      "cell_type": "markdown",
      "metadata": {
        "id": "y6Yuq611Yuoc",
        "colab_type": "text"
      },
      "source": [
        "# Forecasting"
      ]
    },
    {
      "cell_type": "markdown",
      "metadata": {
        "id": "qYmTmBEkYuto",
        "colab_type": "text"
      },
      "source": [
        "# Croma"
      ]
    },
    {
      "cell_type": "code",
      "metadata": {
        "id": "o1mK4RviY0OR",
        "colab_type": "code",
        "outputId": "9dafb683-2c49-40f9-cc8d-f3a69d4270e5",
        "colab": {
          "base_uri": "https://localhost:8080/",
          "height": 51
        }
      },
      "source": [
        "future_forecast_croma = stepwise_model_croma.predict(n_periods=5)\n",
        "future_forecast_croma"
      ],
      "execution_count": 0,
      "outputs": [
        {
          "output_type": "execute_result",
          "data": {
            "text/plain": [
              "array([23559.56644877, 23510.85329089, 23462.14013302, 23413.42697515,\n",
              "       23364.71381728])"
            ]
          },
          "metadata": {
            "tags": []
          },
          "execution_count": 26
        }
      ]
    },
    {
      "cell_type": "markdown",
      "metadata": {
        "id": "eZLv4EWlY2IM",
        "colab_type": "text"
      },
      "source": [
        "# Flipkart"
      ]
    },
    {
      "cell_type": "code",
      "metadata": {
        "id": "KhJTGUOoY2iw",
        "colab_type": "code",
        "outputId": "5409ab96-bd29-44f6-e1d0-e31e84d84c57",
        "colab": {
          "base_uri": "https://localhost:8080/",
          "height": 51
        }
      },
      "source": [
        "future_forecast_flip = stepwise_model_flip.predict(n_periods=5)\n",
        "future_forecast_flip"
      ],
      "execution_count": 0,
      "outputs": [
        {
          "output_type": "execute_result",
          "data": {
            "text/plain": [
              "array([23147.07243126, 23089.15267857, 23031.23292588, 22973.31317319,\n",
              "       22915.3934205 ])"
            ]
          },
          "metadata": {
            "tags": []
          },
          "execution_count": 27
        }
      ]
    },
    {
      "cell_type": "markdown",
      "metadata": {
        "id": "6hmfdNK1Y3CK",
        "colab_type": "text"
      },
      "source": [
        "# Snapdeal"
      ]
    },
    {
      "cell_type": "code",
      "metadata": {
        "id": "u_4_oZpNY3Zq",
        "colab_type": "code",
        "outputId": "be2f440e-64c7-4f4a-9d96-8f64908e7ab9",
        "colab": {
          "base_uri": "https://localhost:8080/",
          "height": 51
        }
      },
      "source": [
        "future_forecast_snap = stepwise_model_snap.predict(n_periods=5)\n",
        "future_forecast_snap"
      ],
      "execution_count": 0,
      "outputs": [
        {
          "output_type": "execute_result",
          "data": {
            "text/plain": [
              "array([22940.4761913 , 22880.95238259, 22821.42857389, 22761.90476518,\n",
              "       22702.38095648])"
            ]
          },
          "metadata": {
            "tags": []
          },
          "execution_count": 28
        }
      ]
    }
  ]
}